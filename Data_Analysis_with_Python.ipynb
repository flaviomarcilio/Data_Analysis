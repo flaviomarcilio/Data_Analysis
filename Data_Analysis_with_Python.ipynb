{
 "cells": [
  {
   "cell_type": "markdown",
   "source": [
    "<h1 align=center><font size = 5>Análise de Dados com Python</font></h1>"
   ],
   "metadata": {}
  },
  {
   "cell_type": "markdown",
   "source": [
    "<h2>Sumário</h2>\r\n",
    "\r\n",
    "<div class=\"alert alert-block alert-info\" style=\"margin-top: 20px\">\r\n",
    "<ul>\r\n",
    "    <li><a href=\"#data_acquisition\">Aquisição de Dados</a></li>\r\n",
    "    <li><a href=\"#basic_insight\">Visualização Básica do Conjunto de Dados</a></li>\r\n",
    "    <li><a href=\"#data-transformation\">Transformação dos Dados</a></li>\r\n",
    "    <li><a href=\"#data_standardization\">Padronização dos Dados</a></li>\r\n",
    "    <li><a href=\"#data_normalization\">Normalização dos Dados</a></li>\r\n",
    "</ul>\r\n",
    "</div>\r\n",
    " \r\n",
    "<hr>"
   ],
   "metadata": {}
  },
  {
   "cell_type": "code",
   "execution_count": null,
   "source": [
    "# Bibliotecas necessárias\r\n",
    "import pandas as pd\r\n",
    "import numpy as np\r\n",
    "import seaborn as sns\r\n",
    "import matplotlib.pyplot as plt\r\n",
    "from warnings import filterwarnings\r\n",
    "filterwarnings('ignore')"
   ],
   "outputs": [],
   "metadata": {}
  },
  {
   "cell_type": "markdown",
   "source": [
    "<h1 id=\"data_acquisition\">Aquisição dos Dados</h1>\r\n",
    "<h3>Contexto</h3>\r\n",
    "<p>\r\n",
    "Este conjunto de dados consiste de dados do Anuário Automotivo de 1985 da Ward. Os dados são oriundos de:\r\n",
    "\r\n",
    "Fontes:\r\n",
    "\r\n",
    "1) Especificações de importação de carros e caminhões de 1985, Anuário Automotivo de 1985 da Ward.\r\n",
    "2) Manuais pessoais  de automóveis, Escritório de Serviços de Seguro, 160 Water Street, New York, NY 10038\r\n",
    "3) Relatórios de Seguros de Colisão, Instituto de Seguros para Segurança Rodoviária, Watergate 600, Washington, DC 20037\r\n",
    "\r\n",
    "<h3>Conteúdo</h3>\r\n",
    "Este conjunto de dados consiste de três tipos de entidades: (a) a especificação de um atomóvel em termos de várias características, (b) sua classificação de risco, (c) sua depreciação em uso comparado com outros carros. A segunda classificação corresponde ao grau em que o automóvel é mais arriscado do que seu preço indica. Os carros recebem inicialmente um fator de risco associado ao seu preço. Então, se for mais arriscado (ou menos), este fator é ajustado movendo-o para cima (ou para baixo) na escala. Os atuários chamam esse processo de \"simbolização\". Um valor de +3 indica que o automóvel é arriscado, -3 que provavelmente é bastante seguro.\r\n",
    "\r\n",
    "O terceiro fator é a depreciação média relativa por ano de veículo segurado. Este valor é normalizado para todos os automóveis dentro de uma determinada classificação de tamanho (pequeno de duas portas, peruas, esportes/especialidades, etc...) e representa a perda média por carro por ano.\r\n",
    "\r\n",
    "<ul>\r\n",
    "    <li>Fonte: <a href=\"https://www.kaggle.com/toramky/automobile-dataset\">https://www.kaggle.com/toramky/automobile-dataset</a></li>\r\n",
    "    <li>Formato: csv</li>\r\n",
    "</ul>"
   ],
   "metadata": {}
  },
  {
   "cell_type": "code",
   "execution_count": null,
   "source": [
    "data_path = 'data/Automobile_data.csv'\r\n",
    "data = pd.read_csv(data_path, na_values='?')\r\n",
    "data.head(7)"
   ],
   "outputs": [],
   "metadata": {}
  },
  {
   "cell_type": "markdown",
   "source": [
    "<h1 id=\"basic_insight\">Visualização Básica do Conjunto de Dados</h1>"
   ],
   "metadata": {}
  },
  {
   "cell_type": "code",
   "execution_count": null,
   "source": [
    "# Informações básicas\r\n",
    "df = data.copy()\r\n",
    "df.info()"
   ],
   "outputs": [],
   "metadata": {}
  },
  {
   "cell_type": "code",
   "execution_count": null,
   "source": [
    "# Tamanho do conjunto de dados\r\n",
    "df.shape"
   ],
   "outputs": [],
   "metadata": {}
  },
  {
   "cell_type": "code",
   "execution_count": null,
   "source": [
    "df.columns"
   ],
   "outputs": [],
   "metadata": {}
  },
  {
   "cell_type": "code",
   "execution_count": null,
   "source": [
    "# Estatísticas básicas para valores numéricos\r\n",
    "df.describe()"
   ],
   "outputs": [],
   "metadata": {}
  },
  {
   "cell_type": "code",
   "execution_count": null,
   "source": [
    "# Descrição completa dos dados\r\n",
    "df.describe(include=\"all\")"
   ],
   "outputs": [],
   "metadata": {}
  },
  {
   "cell_type": "code",
   "execution_count": null,
   "source": [
    "df.nunique()"
   ],
   "outputs": [],
   "metadata": {}
  },
  {
   "cell_type": "code",
   "execution_count": null,
   "source": [
    "# Visualização da distribuição das características binárias\r\n",
    "fig, axs = plt.subplots(2, 2, figsize=(6,4))\r\n",
    "axs[0, 0].pie(x=df['fuel-type'].value_counts(), labels=list(df['fuel-type'].value_counts().index), explode = (0, 0.1))\r\n",
    "axs[0, 0].set_title(\"Fuel Type\")\r\n",
    "axs[0, 1].pie(x=df['aspiration'].value_counts(), labels=list(df['aspiration'].value_counts().index), explode = (0, 0.1))\r\n",
    "axs[0, 1].set_title(\"Aspiration\")\r\n",
    "axs[1, 0].pie(x=df['num-of-doors'].value_counts(), labels=list(df['num-of-doors'].value_counts().index), explode = (0, 0.1))\r\n",
    "axs[1, 0].set_title(\"Number of doors\")\r\n",
    "axs[1, 1].pie(x=df['engine-location'].value_counts(), labels=list(df['engine-location'].value_counts().index), explode = (0, 0.1))\r\n",
    "axs[1, 1].set_title(\"Engine location\")\r\n",
    "plt.show()"
   ],
   "outputs": [],
   "metadata": {}
  },
  {
   "cell_type": "code",
   "execution_count": null,
   "source": [
    "# Distribuição das montadoras\r\n",
    "plt.figure(figsize=(8,5))\r\n",
    "sns.countplot(df.make)\r\n",
    "plt.xticks(rotation=90)\r\n",
    "plt.show()"
   ],
   "outputs": [],
   "metadata": {}
  },
  {
   "cell_type": "code",
   "execution_count": null,
   "source": [
    "# Distribuição dos modelos\r\n",
    "plt.figure(figsize=(8,5))\r\n",
    "sns.countplot(df['body-style'])\r\n",
    "plt.show()"
   ],
   "outputs": [],
   "metadata": {}
  },
  {
   "cell_type": "markdown",
   "source": [
    "<h1 id=\"data-transformation\">Transformação dos Dados</h1>"
   ],
   "metadata": {}
  },
  {
   "cell_type": "markdown",
   "source": [
    "<h3>Avaliando os Dados faltantes</h3>"
   ],
   "metadata": {}
  },
  {
   "cell_type": "code",
   "execution_count": null,
   "source": [
    "df.isnull().sum().sum()"
   ],
   "outputs": [],
   "metadata": {}
  },
  {
   "cell_type": "code",
   "execution_count": null,
   "source": [
    "missing_data = df.isnull()\r\n",
    "missing_data.head()"
   ],
   "outputs": [],
   "metadata": {}
  },
  {
   "cell_type": "markdown",
   "source": [
    "<h3>Contando os valores faltantes</h3>"
   ],
   "metadata": {}
  },
  {
   "cell_type": "code",
   "execution_count": null,
   "source": [
    "for column in missing_data.columns.values.tolist():\r\n",
    "    print(column)\r\n",
    "    print (missing_data[column].value_counts())\r\n",
    "    print(\"\") "
   ],
   "outputs": [],
   "metadata": {}
  },
  {
   "cell_type": "markdown",
   "source": [
    "De acordo com o resultado acima, cada coluna tem 205 linhas de dados, 7 colunas tem dados faltantes:\r\n",
    "<ol>\r\n",
    "    <li>\"normalized-losses\": 41</li>\r\n",
    "    <li>\"num-of-doors\": 2</li>\r\n",
    "    <li>\"bore\": 4</li>\r\n",
    "    <li>\"stroke\" : 4</li>\r\n",
    "    <li>\"horsepower\": 2</li>\r\n",
    "    <li>\"peak-rpm\": 2</li>\r\n",
    "    <li>\"price\": 4</li>\r\n",
    "</ol>"
   ],
   "metadata": {}
  },
  {
   "cell_type": "markdown",
   "source": [
    "<h3>Tratando os dados faltantes</h3>\r\n",
    "Existem diferentes maneiras de tratar os dados faltantes em um conjunto de dados. A opção por um determinado método é livre, porém, alguns métodos são mais indicados do que outros em diferentes situações. Aqui, vamos aplicar alguns métodos em diferentes colunas:\r\n",
    "\r\n",
    "<b>Substituição pela média:</b>\r\n",
    "<ul>\r\n",
    "    <li>\"normalized-losses\": 41 missing data</li>\r\n",
    "    <li>\"stroke\": 4 missing data</li>\r\n",
    "    <li>\"bore\": 4 missing data</li>\r\n",
    "    <li>\"horsepower\": 2 missing data</li>\r\n",
    "    <li>\"peak-rpm\": 2 missing data</li>\r\n",
    "</ul>\r\n",
    "\r\n",
    "<b>Substituição pela maior frequência de ocorrência:</b>\r\n",
    "<ul>\r\n",
    "    <li>\"num-of-doors\": 2 missing data, substituir por \"four\".</li>\r\n",
    "</ul>\r\n",
    "\r\n",
    "<b>Exclusão da linha inteira:</b>\r\n",
    "<ul>\r\n",
    "    <li>\"price\": 4 missing data </li>\r\n",
    "</ul>"
   ],
   "metadata": {}
  },
  {
   "cell_type": "markdown",
   "source": [
    "<h4>Determinação da média das colunas</h4>"
   ],
   "metadata": {}
  },
  {
   "cell_type": "code",
   "execution_count": null,
   "source": [
    "avg_norm_loss = df[\"normalized-losses\"].astype(\"float\").mean(axis=0)\r\n",
    "print(\"Average of normalized-losses:\", avg_norm_loss)\r\n",
    "avg_stroke = df['stroke'].astype('float').mean(axis=0)\r\n",
    "print(\"Average of stroke:\", avg_stroke)\r\n",
    "avg_bore = df['bore'].astype('float').mean(axis=0)\r\n",
    "print(\"Average of bore:\", avg_bore)\r\n",
    "avg_horsepower = df['horsepower'].astype('float').mean(axis=0)\r\n",
    "print(\"Average horsepower:\", avg_horsepower)\r\n",
    "avg_peak_rpm = df['peak-rpm'].astype('float').mean(axis=0)\r\n",
    "print(\"Average peak rpm:\", avg_peak_rpm)"
   ],
   "outputs": [],
   "metadata": {}
  },
  {
   "cell_type": "markdown",
   "source": [
    "<h4>Substituição de \"NaN\" pela média</h4>"
   ],
   "metadata": {}
  },
  {
   "cell_type": "code",
   "execution_count": null,
   "source": [
    "df[\"normalized-losses\"].replace(np.nan, avg_norm_loss, inplace=True)\r\n",
    "df[\"stroke\"].replace(np.nan, avg_stroke, inplace=True)\r\n",
    "df[\"bore\"].replace(np.nan, avg_bore, inplace=True)\r\n",
    "df['horsepower'].replace(np.nan, avg_horsepower, inplace=True)\r\n",
    "df['peak-rpm'].replace(np.nan, avg_peak_rpm, inplace=True)"
   ],
   "outputs": [],
   "metadata": {}
  },
  {
   "cell_type": "markdown",
   "source": [
    "<h4>Verificação da ocorrência de valores</h4>"
   ],
   "metadata": {}
  },
  {
   "cell_type": "code",
   "execution_count": null,
   "source": [
    "df['num-of-doors'].value_counts()"
   ],
   "outputs": [],
   "metadata": {}
  },
  {
   "cell_type": "markdown",
   "source": [
    "<h4>Substituição de \"NaN\" pela maior frequência</h4>"
   ],
   "metadata": {}
  },
  {
   "cell_type": "code",
   "execution_count": null,
   "source": [
    "df[\"num-of-doors\"].replace(np.nan, \"four\", inplace=True)"
   ],
   "outputs": [],
   "metadata": {}
  },
  {
   "cell_type": "markdown",
   "source": [
    "<h4>Exclusão da linha inteira</h4>"
   ],
   "metadata": {}
  },
  {
   "cell_type": "code",
   "execution_count": null,
   "source": [
    "df.dropna(subset=[\"price\"], axis=0, inplace=True)\r\n",
    "df.reset_index(drop=True, inplace=True)"
   ],
   "outputs": [],
   "metadata": {}
  },
  {
   "cell_type": "code",
   "execution_count": null,
   "source": [
    "df.isnull().sum().sum()"
   ],
   "outputs": [],
   "metadata": {}
  },
  {
   "cell_type": "markdown",
   "source": [
    "<h2 id=\"data_standardization\">Padronização dos Dados</h2>\r\n",
    "<p>\r\n",
    "Os dados podem ser coletados por diferentes meios e em diferentes formatos. A padronização consiste em transformar os dados em um formato comum permitindo que os dados sejam comparados\r\n",
    "</p>\r\n",
    "\r\n",
    "<b>Exemplo</b>\r\n",
    "<p>Transformar mpg para L/100km:</p>\r\n",
    "<p>No nosso conjunto de dados, as colunas que informam o consumo de combustível \"city-mpg\" e \"highway-mpg\" são representados em unidade americanas (mpg - miles per gallon). Para melhor compreensão, vamos transformar para o padrão L/100km</p>\r\n",
    "\r\n",
    "<p>A fórmula para conversão de unidades é<p>\r\n",
    "L/100km = 235 / mpg\r\n"
   ],
   "metadata": {}
  },
  {
   "cell_type": "code",
   "execution_count": null,
   "source": [
    "# Converte mpg para L/100km\r\n",
    "df['city-L/100km'] = 235/df[\"city-mpg\"]\r\n",
    "df['highway-L/100km'] = 235/df[\"highway-mpg\"]\r\n",
    "\r\n",
    "df.head()"
   ],
   "outputs": [],
   "metadata": {}
  },
  {
   "cell_type": "markdown",
   "source": [
    "<h2 id=\"data_normalization\">Normalização dos Dados</h2>\r\n",
    "\r\n",
    "<p>Alguns dados apresentam valores numéricos em escalas muito diferentes, o que dificulta a comparação. Para que estes dados possam ser comparados é realizada a normalização dos dados. Portanto, a normalização é o processo de transformar valores de variáveis em uma escala similar. Normalizações típicas incluem transformar os dados para uma escala de média 0, de variância 1, ou de intervalo entre 0 e 1.\r\n",
    "</p>\r\n",
    "\r\n",
    "<b>Exemplo</b>\r\n",
    "<p>Neste exemplo, vamos transformar as colunas \"length\", \"width\" and \"height\" </p>\r\n",
    "<p><b>Objetivo:</b> vamos normalizar estas variáveis para valores de 0 a 1.0</p>\r\n",
    "<p><b>Abordagem:</b> substituir os valore originais por (valor original)/(valor máximo)</p>"
   ],
   "metadata": {}
  },
  {
   "cell_type": "code",
   "execution_count": null,
   "source": [
    "df['length'] = df['length']/df['length'].max()\r\n",
    "df['width'] = df['width']/df['width'].max()\r\n",
    "df['height'] = df['height']/df['height'].max()\r\n",
    "df[['length','width', 'height']].head()"
   ],
   "outputs": [],
   "metadata": {}
  }
 ],
 "metadata": {
  "orig_nbformat": 4,
  "language_info": {
   "name": "python",
   "version": "3.9.4",
   "mimetype": "text/x-python",
   "codemirror_mode": {
    "name": "ipython",
    "version": 3
   },
   "pygments_lexer": "ipython3",
   "nbconvert_exporter": "python",
   "file_extension": ".py"
  },
  "kernelspec": {
   "name": "python3",
   "display_name": "Python 3.9.4 64-bit"
  },
  "interpreter": {
   "hash": "63fd5069d213b44bf678585dea6b12cceca9941eaf7f819626cde1f2670de90d"
  }
 },
 "nbformat": 4,
 "nbformat_minor": 2
}